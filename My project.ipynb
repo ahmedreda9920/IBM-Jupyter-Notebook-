{
 "cells": [
  {
   "cell_type": "markdown",
   "id": "9b930a8e",
   "metadata": {},
   "source": [
    "# My Jupyter Notebook on IBM Watson Studio"
   ]
  },
  {
   "cell_type": "markdown",
   "id": "a7b3e383",
   "metadata": {},
   "source": [
    "**Ahmed Reda**"
   ]
  },
  {
   "cell_type": "markdown",
   "id": "171801e9",
   "metadata": {},
   "source": [
    " *My name is Ahmed, I am in my bachelor's year in Computer Science and interested in studying Data Science*"
   ]
  },
  {
   "cell_type": "markdown",
   "id": "5d850da6",
   "metadata": {},
   "source": [
    "### code is supposed to do ..."
   ]
  },
  {
   "cell_type": "code",
   "execution_count": 2,
   "id": "8ec2a884",
   "metadata": {},
   "outputs": [
    {
     "name": "stdout",
     "output_type": "stream",
     "text": [
      "3\n"
     ]
    }
   ],
   "source": [
    "x=1\n",
    "y=2\n",
    "print(x+y)"
   ]
  },
  {
   "cell_type": "markdown",
   "id": "41b849eb",
   "metadata": {},
   "source": [
    "* one\n",
    "* Two\n",
    "* three"
   ]
  },
  {
   "cell_type": "markdown",
   "id": "f5810841",
   "metadata": {},
   "source": [
    "### content of table \n",
    "|Name|age|Gender|\n",
    "|---|---|---|\n",
    "|ahmed|22|male|\n",
    "|mohammed|25|male|\n"
   ]
  },
  {
   "cell_type": "markdown",
   "id": "0e98014d",
   "metadata": {},
   "source": [
    "<http://www.google.com> "
   ]
  },
  {
   "cell_type": "code",
   "execution_count": null,
   "id": "d8b8d856",
   "metadata": {},
   "outputs": [],
   "source": []
  }
 ],
 "metadata": {
  "kernelspec": {
   "display_name": "Python 3",
   "language": "python",
   "name": "python3"
  },
  "language_info": {
   "codemirror_mode": {
    "name": "ipython",
    "version": 3
   },
   "file_extension": ".py",
   "mimetype": "text/x-python",
   "name": "python",
   "nbconvert_exporter": "python",
   "pygments_lexer": "ipython3",
   "version": "3.8.8"
  },
  "widgets": {
   "application/vnd.jupyter.widget-state+json": {
    "state": {},
    "version_major": 2,
    "version_minor": 0
   }
  }
 },
 "nbformat": 4,
 "nbformat_minor": 5
}
